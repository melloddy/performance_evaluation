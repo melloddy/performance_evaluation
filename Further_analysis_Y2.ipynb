{
 "cells": [
  {
   "cell_type": "code",
   "execution_count": null,
   "metadata": {},
   "outputs": [],
   "source": [
    "import os\n",
    "import glob\n",
    "import scipy\n",
    "import pandas as pd\n",
    "import seaborn as sns\n",
    "from scipy import stats\n",
    "import warnings\n",
    "from matplotlib.colors import ListedColormap\n",
    "import random\n",
    "%matplotlib\n",
    "%pylab inline\n",
    "sns.set(font_scale=1.6)\n",
    "sns.set_style('whitegrid')\n",
    "\n",
    "aggregated_order= ['<= -0.2','(-0.2--0.15]','(-0.15--0.1]','(-0.1--0.05]',\\\n",
    "                   '(-0.05-0.0]','(0.0-0.05]','(0.05-0.1]','(0.1-0.15]','(0.15-0.2]','> 0.2']\n",
    "\n",
    "sp_mp_bins=['[0.0-0.1]', '(0.1-0.2]', '(0.2-0.3]', '(0.3-0.4]', '(0.4-0.5]',\\\n",
    "            '(0.5-0.6]', '(0.6-0.7]', '(0.7-0.8]', '(0.8-0.9]', '(0.9-1.0]']\n",
    "\n",
    "sns.__version__\n",
    "\n",
    "import matplotlib as mpl\n",
    "mpl.rcParams\n",
    "COLOR = '#003985'\n",
    "mpl.rcParams['text.color'] = COLOR\n",
    "mpl.rcParams['axes.labelcolor'] = COLOR\n",
    "mpl.rcParams['xtick.color'] = COLOR\n",
    "mpl.rcParams['ytick.color'] = COLOR\n",
    "\n",
    "print('Currently under development')"
   ]
  },
  {
   "cell_type": "code",
   "execution_count": null,
   "metadata": {},
   "outputs": [],
   "source": [
    "company=''\n",
    "T8c=f''"
   ]
  },
  {
   "cell_type": "markdown",
   "metadata": {},
   "source": [
    "# PLOT COMPANY METRICS"
   ]
  },
  {
   "cell_type": "code",
   "execution_count": null,
   "metadata": {
    "scrolled": true
   },
   "outputs": [],
   "source": [
    "aggregated_delta_tasks=pd.DataFrame()\n",
    "for idx,f in enumerate(sorted(glob.glob(f'{company}/cls/deltas_global_performances.csv'))):\n",
    "    company_df=pd.read_csv(f)\n",
    "    print(f)\n",
    "    company_df['Company']=f'{idx+1}'\n",
    "    aggregated_delta_tasks=pd.concat((aggregated_delta_tasks,company_df),sort=False)\n",
    "n=str(len(aggregated_delta_tasks.Company.unique()))\n",
    "g=sns.catplot(data=aggregated_delta_tasks[[col for col in aggregated_delta_tasks.columns if col not in ['Company','kappa','positive_rate']]].melt(),y='value',x='variable',kind='bar',color='#2081F3',aspect=2,height=6)\n",
    "for i, ax in enumerate(g.fig.axes):   ## getting all axes of the fig object\n",
    "     ax.set_xticklabels(ax.get_xticklabels(), rotation = 90)\n",
    "g.set_ylabels(f\"∆MPvs.SP\\n(Cross company deviation)\")\n",
    "g.set_xlabels(f'Performance Metric\\n(N={n})')\n",
    "plt.axhline(0.00)"
   ]
  },
  {
   "cell_type": "code",
   "execution_count": null,
   "metadata": {},
   "outputs": [],
   "source": [
    "#get aggregate deltas across pharma & anonymise\n",
    "aggregated_delta_tasks=pd.DataFrame()\n",
    "for f in sorted(glob.glob(f'{company}/cls/deltas_per-assay_performances.csv')):\n",
    "    company_df=pd.read_csv(f)\n",
    "    print(f)\n",
    "    company_df['Company']=f.split('/')[0]\n",
    "    aggregated_delta_tasks=pd.concat((aggregated_delta_tasks,company_df),sort=False)\n",
    "aggregated_delta_tasks=aggregated_delta_tasks[[col for col in aggregated_delta_tasks.columns if col not in ['Company','kappa','positive_rate']]]\n",
    "n=str(aggregated_delta_tasks.groupby('assay_type').count().iloc[0][0])\n",
    "g=sns.catplot(data=aggregated_delta_tasks.melt(id_vars=['assay_type']),y='value',x='variable',kind='bar',col='assay_type',col_wrap=2,aspect=2,height=6)\n",
    "for i, ax in enumerate(g.fig.axes):   ## getting all axes of the fig object\n",
    "    ax.set_xticklabels(ax.get_xticklabels(), rotation = 90)\n",
    "g.set_titles(row_template = '           {row_name}           ', col_template = '{col_name} (N='+n+')')\n",
    "g.set_ylabels(f\"∆MPvs.SP\")\n",
    "g.set_xlabels('Performance\\nMetric')"
   ]
  },
  {
   "cell_type": "markdown",
   "metadata": {},
   "source": [
    "# PLOT PREDICTION RATES"
   ]
  },
  {
   "cell_type": "code",
   "execution_count": null,
   "metadata": {
    "scrolled": false
   },
   "outputs": [],
   "source": [
    "#get aggregate deltas across pharma & anonymise\n",
    "aggregated_delta_tasks=pd.DataFrame()\n",
    "for f in sorted(glob.glob(f'{company}/cls/deltas_per-assay_performances.csv')):\n",
    "    company_df=pd.read_csv(f)\n",
    "    print(f)\n",
    "    company_df['Company']=f.split('/')[0]\n",
    "    aggregated_delta_tasks=pd.concat((aggregated_delta_tasks,company_df),sort=False)\n",
    "aggregated_delta_tasks=aggregated_delta_tasks[[col for col in aggregated_delta_tasks.columns if col in ['assay_type','tpr','fnr','fpr','tnr']]]\n",
    "n=str(aggregated_delta_tasks.groupby('assay_type').count().iloc[0][0])\n",
    "g=sns.catplot(data=aggregated_delta_tasks.melt(id_vars=['assay_type']),y='value',x='variable',kind='bar',col='assay_type',col_wrap=2,aspect=2,height=6)\n",
    "for i, ax in enumerate(g.fig.axes):   ## getting all axes of the fig object\n",
    "    ax.set_xticklabels(ax.get_xticklabels(), rotation = 90)\n",
    "g.set_titles(row_template = '           {row_name}           ', col_template = '{col_name} (N='+n+')')\n",
    "g.set_ylabels(f\"∆MPvs.SP\")\n",
    "g.set_xlabels('Performance\\nMetric')"
   ]
  },
  {
   "cell_type": "markdown",
   "metadata": {},
   "source": [
    "# CONFUSION MATRIX PER ASSAY TYPE"
   ]
  },
  {
   "cell_type": "code",
   "execution_count": null,
   "metadata": {},
   "outputs": [],
   "source": [
    "cm=aggregated_delta_tasks.melt(id_vars=['assay_type']).query('variable in [\"tpr\",\"fnr\",\"tnr\",\"fpr\"]')\n",
    "mmin=aggregated_delta_tasks.melt(id_vars=['assay_type']).query('variable in [\"tpr\",\"fnr\",\"tnr\",\"fpr\"]')['value'].min()\n",
    "mmax=aggregated_delta_tasks.melt(id_vars=['assay_type']).query('variable in [\"tpr\",\"fnr\",\"tnr\",\"fpr\"]')['value'].max()\n",
    "for at,atdf in aggregated_delta_tasks.groupby('assay_type'):\n",
    "    ndf=pd.concat((atdf[['tpr','fpr']].T.reset_index(drop=True).T,atdf[['fnr','tnr']].T.reset_index(drop=True).T),axis=0)\n",
    "    ndf.columns=['A','I']\n",
    "    ndf.index=['A','I']\n",
    "    ax=sns.heatmap(ndf,annot=True,cmap='RdYlGn',center=0,vmin=mmin,vmax=mmax)\n",
    "    ax.set_title(at)\n",
    "    ax.set_ylabel('Predicted')\n",
    "    ax.set_xlabel('Actual')\n",
    "    plt.show()"
   ]
  },
  {
   "cell_type": "code",
   "execution_count": null,
   "metadata": {},
   "outputs": [],
   "source": [
    "company_df=pd.read_csv(f'{company}/cls/deltas_per-task_performances.csv')\n",
    "company_t8c=pd.read_csv(T8c)\n",
    "company_df=company_df.merge(company_t8c,left_on='classification_task_id',right_on='classification_task_id',how='left')\n",
    "company_df['size']=company_df['num_total_inactives']+company_df['num_total_actives']"
   ]
  },
  {
   "cell_type": "markdown",
   "metadata": {},
   "source": [
    "# EFFECT OF PRAUC CALIBRATION (WP1 DISCUSSION)"
   ]
  },
  {
   "cell_type": "code",
   "execution_count": null,
   "metadata": {},
   "outputs": [],
   "source": [
    "company_df=pd.read_csv(f'{company}/cls/deltas_per-task_performances.csv')\n",
    "company_t8c=pd.read_csv(T8c)\n",
    "company_df=company_df.merge(company_t8c,left_on='classification_task_id',right_on='classification_task_id',how='left')\n",
    "company_df['size']=company_df['num_total_inactives']+company_df['num_total_actives']\n",
    "\n",
    "from scipy import stats\n",
    "def r2(x, y):\n",
    "    return stats.pearsonr(x, y)[0] ** 2\n",
    "\n",
    "g=sns.jointplot(data=company_df,x='auc_pr',y='calibrated_auc_pr')\n",
    "g.fig.subplots_adjust(top=0.9) # adjust the Figure in rp\n",
    "g.fig.suptitle(f\"r2={round(r2(company_df['auc_pr'],company_df['calibrated_auc_pr']),3)}\")"
   ]
  },
  {
   "cell_type": "code",
   "execution_count": null,
   "metadata": {},
   "outputs": [],
   "source": [
    "g.savefig('wp1_toshare1.png')"
   ]
  },
  {
   "cell_type": "code",
   "execution_count": null,
   "metadata": {},
   "outputs": [],
   "source": [
    "company_df['pc_size']=company_df['size'].rank(pct=True)*100\n",
    "company_df['abs_difference_aucpr']=(company_df['calibrated_auc_pr']-company_df['auc_pr']).abs()\n",
    "g=sns.jointplot(data=company_df,x='pc_size',y='abs_difference_aucpr')\n",
    "#g.ax_joint.set_xscale('log')\n",
    "g.fig.subplots_adjust(top=0.9) # adjust the Figure in rp\n",
    "g.fig.suptitle(f\"r2={round(r2(company_df['abs_difference_aucpr'],company_df['size']),3)}\")"
   ]
  },
  {
   "cell_type": "code",
   "execution_count": null,
   "metadata": {},
   "outputs": [],
   "source": [
    "g.savefig('wp1_toshare2.png')"
   ]
  },
  {
   "cell_type": "code",
   "execution_count": null,
   "metadata": {},
   "outputs": [],
   "source": [
    "def cut(x, bins, lower_infinite=True, upper_infinite=True, **kwargs):        \n",
    "    num_labels      = len(bins) - 1\n",
    "    include_lowest  = kwargs.get(\"include_lowest\", False)\n",
    "    right           = kwargs.get(\"right\", True)\n",
    "    bins_final = bins.copy()\n",
    "    if upper_infinite:\n",
    "        bins_final.insert(len(bins),float(\"inf\"))\n",
    "        num_labels += 1\n",
    "    if lower_infinite:\n",
    "        bins_final.insert(0,float(\"-inf\"))\n",
    "        num_labels += 1\n",
    "    symbol_lower  = \"<=\" if include_lowest and right else \"<\"\n",
    "    left_bracket  = \"(\" if right else \"[\"\n",
    "    right_bracket = \"]\" if right else \")\"\n",
    "    symbol_upper  = \">\" if right else \">=\"\n",
    "    labels=[]\n",
    "    \n",
    "    def make_label(i, lb=left_bracket, rb=right_bracket):\n",
    "        return \"{0}{1}-{2}{3}\".format(lb, bins_final[i], bins_final[i+1], rb)\n",
    "        \n",
    "    for i in range(0,num_labels):\n",
    "        new_label = None\n",
    "        if i == 0:\n",
    "            if lower_infinite:\n",
    "                new_label = \"{0} {1}\".format(symbol_lower, bins_final[i+1])\n",
    "            elif include_lowest:\n",
    "                new_label = make_label(i, lb=\"[\")\n",
    "            else:\n",
    "                new_label = make_label(i)\n",
    "        elif upper_infinite and i == (num_labels - 1):\n",
    "            new_label = \"{0} {1}\".format(symbol_upper, bins_final[i])\n",
    "        else:\n",
    "            new_label = make_label(i)\n",
    "        labels.append(new_label)\n",
    "    return pd.cut(x, bins_final, labels=labels, **kwargs)\n",
    "\n",
    "mp_company_df=pd.read_csv(f'{company}/cls/MP/pred_per-task_performances.csv')\n",
    "sp_company_df=pd.read_csv(f'{company}/cls/SP/pred_per-task_performances.csv')\n",
    "company_df=mp_company_df[['classification_task_id','auc_pr','calibrated_auc_pr']].merge(sp_company_df[['classification_task_id','auc_pr','calibrated_auc_pr']],left_on='classification_task_id',right_on='classification_task_id',how='outer',suffixes=('_MP', '_SP'))\n",
    "company_t8c=pd.read_csv(T8c)\n",
    "company_df['size']=mp_company_df['num_total_actives']\n",
    "company_df['taskbin'] = cut(company_df['size'].astype('float32'), \\\n",
    "[75,100,500,1000],include_lowest=True,right=True)\n",
    "\n",
    "toplot=company_df.melt(id_vars=['classification_task_id','taskbin'],value_vars=['auc_pr_MP','calibrated_auc_pr_MP','auc_pr_SP','calibrated_auc_pr_SP'])\n",
    "order=sorted(toplot['variable'].unique())\n",
    "\n",
    "import matplotlib.pyplot as plt\n",
    "fig, ax = plt.subplots(figsize=(10, 5))\n",
    "sns.boxplot(data=toplot,\n",
    "            y='variable',\n",
    "            x='value',\n",
    "            orient='h',\n",
    "            showfliers=False,\n",
    "            order=order, \n",
    "            ax=ax)\n",
    "\n",
    "plt.subplots_adjust(left=0.35, bottom=0.15, right=1, top=0.9)\n",
    "plt.savefig('wp1_toshare3.png')"
   ]
  },
  {
   "cell_type": "markdown",
   "metadata": {},
   "source": [
    "# PREDICTION RATE CORRELATION"
   ]
  },
  {
   "cell_type": "code",
   "execution_count": null,
   "metadata": {
    "scrolled": true
   },
   "outputs": [],
   "source": [
    "for at,atdf in company_df.groupby('assay_type_x'):\n",
    "    ax=sns.heatmap(atdf[['auc_pr','tnr','tpr','fnr','fpr']].corr(),mask=np.triu(atdf[['auc_pr','tnr','tpr','fnr','fpr']].corr()),annot=True,cmap='RdYlGn',center=0,vmin=-1,vmax=1)\n",
    "    ax.set_title(at)\n",
    "    plt.show()"
   ]
  },
  {
   "cell_type": "markdown",
   "metadata": {},
   "source": [
    "# DISTRIBUTION OF RATES ACROSS TASKS"
   ]
  },
  {
   "cell_type": "code",
   "execution_count": null,
   "metadata": {},
   "outputs": [],
   "source": [
    "plt.figure(figsize=(10,10))\n",
    "ax=sns.boxplot(data=company_df.melt(id_vars='assay_type_x',value_vars=['tpr','tnr','fpr','fnr']), \\\n",
    "           x='variable',y='value',hue='assay_type_x')\n",
    "ax.set_ylabel('Delta (cross task distribution)')\n",
    "ax.set_xlabel('Prediction rate')\n",
    "plt.axhline(0,linewidth=4,color='grey',linestyle='--')"
   ]
  },
  {
   "cell_type": "code",
   "execution_count": null,
   "metadata": {},
   "outputs": [],
   "source": [
    "hdata=company_df[['assay_type_x','tpr','fnr','tpr','fpr','auc_pr']].set_index('assay_type_x')\n",
    "lut = dict(zip(hdata.index.unique(), \"rbg\"))\n",
    "row_colors = hdata.index.map(lut)"
   ]
  },
  {
   "cell_type": "markdown",
   "metadata": {},
   "source": [
    "# BI CLUSTERED HEATMAP OF PREDICTION RATE EFFECTS"
   ]
  },
  {
   "cell_type": "code",
   "execution_count": null,
   "metadata": {},
   "outputs": [],
   "source": [
    "ax=sns.clustermap(company_df[['assay_type_x','tpr','fnr','tnr','fpr','auc_pr']].set_index('assay_type_x').T, \\\n",
    "                  col_colors=row_colors,cmap=\"vlag\",figsize=(15, 5),method='complete',metric=\"euclidean\", \\\n",
    "                  colors_ratio=.3, dendrogram_ratio=(.01, .2), xticklabels=False,cbar_pos=(.97, 0.23,0.05, 0.18))\n",
    "\n",
    "from matplotlib.patches import Patch\n",
    "\n",
    "handles = [Patch(facecolor=lut[name]) for name in lut]\n",
    "plt.legend(handles, lut, title='assay_type',\n",
    "           bbox_to_anchor=(1, 1), bbox_transform=plt.gcf().transFigure, loc='upper center')"
   ]
  },
  {
   "cell_type": "code",
   "execution_count": null,
   "metadata": {},
   "outputs": [],
   "source": [
    "for tdf,tdf2 in company_df.groupby('assay_type_x'):\n",
    "    ax=sns.clustermap(tdf2[['assay_type_x','tpr','fnr','tnr','fpr','auc_pr']].set_index('assay_type_x').T, \\\n",
    "                      cmap=\"vlag\",figsize=(15, 5),method='complete',metric=\"euclidean\", \\\n",
    "                      dendrogram_ratio=(.01, .2), xticklabels=False,cbar_pos=(.97, 0.23,0.05, 0.18)).fig.suptitle(tdf)"
   ]
  },
  {
   "cell_type": "markdown",
   "metadata": {},
   "source": [
    "# EFFECT OF TOTAL TASK SIZE ON PERFORMANCE"
   ]
  },
  {
   "cell_type": "code",
   "execution_count": null,
   "metadata": {},
   "outputs": [],
   "source": [
    "sns.relplot(data=company_df,x='auc_pr',y='size',height=8,alpha=.5)"
   ]
  },
  {
   "cell_type": "code",
   "execution_count": null,
   "metadata": {},
   "outputs": [],
   "source": [
    "sns.relplot(data=company_df,x='auc_pr',y='size',height=10,col='assay_type_x',col_wrap=2,alpha=.5)"
   ]
  },
  {
   "cell_type": "code",
   "execution_count": null,
   "metadata": {
    "scrolled": true
   },
   "outputs": [],
   "source": [
    "sns.relplot(data=company_df,y='num_total_actives',x='auc_pr',height=8,alpha=.5)"
   ]
  },
  {
   "cell_type": "markdown",
   "metadata": {},
   "source": [
    "# SIGNIFICANT IMPROVED OR DETERIORATED TASK"
   ]
  },
  {
   "cell_type": "code",
   "execution_count": null,
   "metadata": {},
   "outputs": [],
   "source": [
    "toplot=company_df.query('(mp_significant==1) | (sp_significant==1)').groupby(['assay_type_x','mp_significant']).count().reset_index()\n",
    "toplot['Significance']=toplot['mp_significant'].astype(str).str.replace('0','SP').str.replace('1','MP')\n",
    "sns.catplot(data=toplot,col='assay_type_x',x='Significance',y='classification_task_id',kind='bar').set_axis_labels(\"\",\"no. tasks significant\")"
   ]
  },
  {
   "cell_type": "code",
   "execution_count": null,
   "metadata": {
    "scrolled": true
   },
   "outputs": [],
   "source": [
    "dfdict=company_df.groupby('assay_type_x').count()['classification_task_id'].to_dict()\n",
    "def compute_percentage(x):\n",
    "    pct = (x['classification_task_id']/dfdict[x.index[0][0]] * 100)\n",
    "    return round(pct, 2)\n",
    "ndf=company_df.query('(mp_significant==1) | (sp_significant==1)').groupby(['assay_type_x','mp_significant']).count()\n",
    "ndf2=pd.DataFrame(ndf.groupby(['assay_type_x','mp_significant']).apply(compute_percentage))\n",
    "ndf2.index=ndf2.index.droplevel([0,1])\n",
    "ndf2=ndf2.reset_index()\n",
    "ndf2['Significance']=ndf2['mp_significant'].astype(str).str.replace('0','SP').str.replace('1','MP')\n",
    "ax=sns.catplot(data=ndf2,col='assay_type_x',x='Significance',y='classification_task_id',kind='bar').set_axis_labels(\"\",\"% tasks significant\")"
   ]
  },
  {
   "cell_type": "code",
   "execution_count": null,
   "metadata": {},
   "outputs": [],
   "source": [
    "company_df['Significant']=company_df['mp_significant'].astype(str) + company_df['sp_significant'].astype(str)\n",
    "company_df['Significant']=company_df['Significant'].str.replace('00','').str.replace('10','MP').str.replace('01','SP')"
   ]
  },
  {
   "cell_type": "code",
   "execution_count": null,
   "metadata": {
    "scrolled": false
   },
   "outputs": [],
   "source": [
    "sns.relplot(data=company_df,x='auc_pr',y='roc_auc_score',col='assay_type_x',hue='Significant',alpha=0.75,height=10,s=130,marker='o')"
   ]
  },
  {
   "cell_type": "code",
   "execution_count": null,
   "metadata": {},
   "outputs": [],
   "source": []
  },
  {
   "cell_type": "code",
   "execution_count": null,
   "metadata": {},
   "outputs": [],
   "source": [
    "hdata=company_df[['assay_type_x','Significant']].set_index('Significant')\n",
    "lut = dict(zip(hdata.index.unique(), \"wky\"))\n",
    "row_colors = hdata.index.map(lut)\n",
    "\n",
    "hdata=company_df[['assay_type_x','Significant']].set_index('assay_type_x')\n",
    "lut2 = dict(zip(hdata.index.unique(), \"rbg\"))\n",
    "row_colors2 = hdata.index.map(lut2)\n",
    "\n",
    "ax=sns.clustermap(company_df[company_df.auc_pr.abs()>0.05][['assay_type_x','auc_pr','roc_auc_score']].set_index('assay_type_x').T, \\\n",
    "                  col_colors=[row_colors,row_colors2],cmap=\"vlag\",figsize=(15, 5),method='complete',metric=\"euclidean\", \\\n",
    "                  colors_ratio=.15, dendrogram_ratio=(.01, .2), xticklabels=False,cbar_pos=(.97, 0.23,0.05, 0.18))\n",
    "\n",
    "from matplotlib.patches import Patch\n",
    "\n",
    "handles = [Patch(facecolor=lut[name]) for name in lut]\n",
    "plt.legend(handles, lut, title='Significance',\n",
    "           bbox_to_anchor=(1, 1), bbox_transform=plt.gcf().transFigure, loc='upper center')\n",
    "\n",
    "handles = [Patch(facecolor=lut2[name]) for name in lut2]\n",
    "plt.legend(handles, lut2, title='Significance',\n",
    "           bbox_to_anchor=(1, 1), bbox_transform=plt.gcf().transFigure, loc='lower center')"
   ]
  },
  {
   "cell_type": "code",
   "execution_count": null,
   "metadata": {},
   "outputs": [],
   "source": [
    "sns.boxplot(data=company_df,y='auc_pr',x='assay_type_x',hue='direction')"
   ]
  },
  {
   "cell_type": "code",
   "execution_count": null,
   "metadata": {},
   "outputs": [],
   "source": []
  },
  {
   "cell_type": "code",
   "execution_count": null,
   "metadata": {},
   "outputs": [],
   "source": []
  }
 ],
 "metadata": {
  "kernelspec": {
   "display_name": "Python 3",
   "language": "python",
   "name": "python3"
  },
  "language_info": {
   "codemirror_mode": {
    "name": "ipython",
    "version": 3
   },
   "file_extension": ".py",
   "mimetype": "text/x-python",
   "name": "python",
   "nbconvert_exporter": "python",
   "pygments_lexer": "ipython3",
   "version": "3.7.11"
  }
 },
 "nbformat": 4,
 "nbformat_minor": 2
}
