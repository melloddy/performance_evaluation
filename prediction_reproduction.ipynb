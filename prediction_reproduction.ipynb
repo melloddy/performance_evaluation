{
 "cells": [
  {
   "cell_type": "code",
   "execution_count": 1,
   "metadata": {},
   "outputs": [],
   "source": [
    "import os, sys\n",
    "import numpy as np\n",
    "import torch\n",
    "import seaborn as sns\n",
    "import matplotlib.pyplot as plt"
   ]
  },
  {
   "cell_type": "code",
   "execution_count": 5,
   "metadata": {},
   "outputs": [
    {
     "data": {
      "text/plain": [
       "'1.17.4'"
      ]
     },
     "execution_count": 5,
     "metadata": {},
     "output_type": "execute_result"
    }
   ],
   "source": [
    "np.__version__"
   ]
  },
  {
   "cell_type": "code",
   "execution_count": 3,
   "metadata": {},
   "outputs": [
    {
     "data": {
      "text/plain": [
       "'1.3.1'"
      ]
     },
     "execution_count": 3,
     "metadata": {},
     "output_type": "execute_result"
    }
   ],
   "source": [
    "torch.__version__"
   ]
  },
  {
   "cell_type": "markdown",
   "metadata": {},
   "source": [
    "Valid fold is specified [here](https://git.infra.melloddy.eu/wp2/melloddy-workflow-y1/-/blob/prod-testnet-v1/run-workflow.sh) :\n",
    "```FOLD_TEST=\"0\"\n",
    "FOLD_VALIDATION=\"1\"```"
   ]
  },
  {
   "cell_type": "markdown",
   "metadata": {},
   "source": [
    "# Load data source used during testnet run using inflated dataset (manifest of July 3rd 2020) "
   ]
  },
  {
   "cell_type": "markdown",
   "metadata": {},
   "source": [
    "\n",
    "1. Download the splitted ChEMBL data from [here](https://app.box.com/folder/115927132115)\n",
    "2. Identify your pharma partner ID from [here](https://az.app.box.com/file/665327503987) and use *partner<your_company_ID>.npy from Step 1 for inputs for the y, folding and weights\n",
    "3. Download the testnet production run output in this [folder](https://app.box.com/folder/114759251715) (see dates) for your corresponding partner ID. E.g. here, [manifest of July 3rd, 2020](https://app.box.com/folder/117106580021). \n",
    "\n"
   ]
  },
  {
   "cell_type": "code",
   "execution_count": null,
   "metadata": {},
   "outputs": [],
   "source": [
    "# Load the Y matrix for partner 10 in order to verify the validation fold used\n",
    "pharma_id = 10\n",
    "\n",
    "y_true_all_file = f'data/pharma_11_partners_inflated/partner{pharma_id}/pharma_inflated_y_partner_{pharma_id}.npy'\n",
    "y_true_all = np.load(y_true_all_file, allow_pickle=True).item().tocsr()\n",
    "\n",
    "\n",
    "folds_file  =  f\"data/pharma_11_partners_inflated/partner{pharma_id}/folding_inflated_partner_{pharma_id}.npy\"\n",
    "folds = np.load(folds_file, allow_pickle=True).astype(int)\n",
    "\n",
    "# filter out valid fold = 1 and check out the shape\n",
    "y_true_va1 = y_true_all[folds == 1]\n",
    "\n",
    "print(f'Number of data points in the full source dataset : {y_true_all.nonzero()[0].shape[0]}')\n",
    "print(f'Number of data points in the validatinon set     : {y_true_va1.nonzero()[0].shape[0]}')\n",
    "print(f'Shape of the validation set labeled data         : {y_true_va1.shape}')"
   ]
  },
  {
   "cell_type": "code",
   "execution_count": null,
   "metadata": {},
   "outputs": [],
   "source": [
    "# check Sizes of other folds\n",
    "print(f'# data points fold 0 : {y_true_all[folds == 0].shape[0]}')\n",
    "print(f'# data points fold 1 : {y_true_all[folds == 1].shape[0]}')\n",
    "print(f'# data points fold 2 : {y_true_all[folds == 2].shape[0]}')\n",
    "print(f'# data points fold 3 : {y_true_all[folds == 3].shape[0]}')\n",
    "print(f'# data points fold 4 : {y_true_all[folds == 4].shape[0]}')"
   ]
  },
  {
   "cell_type": "markdown",
   "metadata": {},
   "source": [
    "# Load the testnet predictions (sparse y_hat)"
   ]
  },
  {
   "cell_type": "code",
   "execution_count": null,
   "metadata": {},
   "outputs": [],
   "source": [
    "# load the production testnet predictions (sparse y_hat)\n",
    "\n",
    "# this file path has to be adjusted to the testnet run you for which you want to evaluate reproducibility:\n",
    "testnet_yhat_file = \"manifests_03-07-2020/output_model/var/substra/medias/subtuple/fe020e4cdc69bf166e2de6ddc55503f95d7dd4caa7f4e17fab3664aa38008dd0/pred/pred\"\n",
    "testnet_yhat = torch.load(testnet_yhat_file)\n",
    "\n",
    "# get non zero elements (labeled data points in Y) in order to pick them in the dense y_hat of sparsechem obtained on-premises\n",
    "nnz = testnet_yhat.nonzero()\n",
    "testnet_yhat.shape, testnet_yhat.nonzero()[0].shape"
   ]
  },
  {
   "cell_type": "markdown",
   "metadata": {},
   "source": [
    "# Produce predictions on premise with sparsechem (v 0.6.0)"
   ]
  },
  {
   "cell_type": "markdown",
   "metadata": {},
   "source": [
    "### Sparse y_hat predictions with sparse-predict branch of sparsechem "
   ]
  },
  {
   "cell_type": "markdown",
   "metadata": {},
   "source": [
    "<b>Lower memory usage</b>: make sparse y_hat prediction for validation fold 1, with the [sparse-predict](https://git.infra.melloddy.eu/wp2/sparsechem/-/tree/sparse-predict) branch of sparsechem (as of July 14th, 2020).<br>\n",
    "\n",
    "<br>\n",
    "This approach yields into a y_hat.npy prediction file ~380M for inflated dataset of partner 10.<br>\n",
    "The predictions take ~1h to get produced on CPU with 60G of memory.<br>\n",
    "<br>\n",
    "\n",
    "\n",
    "Command line call example to make <b>sparse</b> on premise predictions with sparsechem and pharma partner 10 inflated datas source (downloadable [here](https://app.box.com/folder/115927132115)) and the model exported from the [testnet run of July 3rd, 2020](https://app.box.com/folder/117106580021): <br>\n",
    "```bash\n",
    "python predict.py --x  data/pharma_11_partners_inflated/partner10/pharma_inflated_x_partner_10.npy\n",
    "                  --y  data/pharma_11_partners_inflated/partner10/pharma_inflated_y_partner_10.npy\n",
    "                  --folding data/pharma_11_partners_inflated/partner10/folding_inflated_partner_10.npy\n",
    "                  --predict_fold 1\n",
    "                  --conf manifests_03-07-2020/output_model/var/substra/medias/subtuple/fe020e4cdc69bf166e2de6ddc55503f95d7dd4caa7f4e17fab3664aa38008dd0/export/hyperparameters.json\n",
    "                  --model manifests_03-07-2020/output_model/var/substra/medias/subtuple/fe020e4cdc69bf166e2de6ddc55503f95d7dd4caa7f4e17fab3664aa38008dd0/export/model.pth\n",
    "                  --outfile pred_sparse_onpremise_manifest_03-07-2020_partner10_fva1.npy\n",
    "                  --dev cpu\n",
    "```"
   ]
  },
  {
   "cell_type": "code",
   "execution_count": null,
   "metadata": {},
   "outputs": [],
   "source": [
    "# load local predictions (shape of the full Y matrix data source)\n",
    "onpremise_sparse_yhat_va1 = np.load(\"pred_sparse_onpremise_manifest_03-07-2020_partner10_fva1.npy\", allow_pickle=True).item() # \n",
    "nnz_onprem = onpremise_sparse_yhat_va1.nonzero()\n",
    "onpremise_sparse_yhat_va1.shape, onpremise_sparse_yhat_va1.nonzero()[0].shape #=> should be same shape as fold_va 1 in Y data source"
   ]
  },
  {
   "cell_type": "code",
   "execution_count": null,
   "metadata": {},
   "outputs": [],
   "source": [
    "# test if testnet predictions are close enough to on premise predictions: \n",
    "# with relative and absolute tolerances (rtol and atol) = 1e-5\n",
    "# \n",
    "# Expected outcome if tesnet predictions are reproducible is \"True\" \n",
    "np.allclose(onpremise_sparse_yhat_va1[nnz_onprem], testnet_yhat[nnz], rtol=1e-05, atol=1e-05) # => Foir this manifest: True"
   ]
  },
  {
   "cell_type": "markdown",
   "metadata": {},
   "source": [
    "---"
   ]
  },
  {
   "cell_type": "markdown",
   "metadata": {},
   "source": [
    "# Load data source used during testnet run using chembl split dataset (manifest of June 25th, 2020) "
   ]
  },
  {
   "cell_type": "markdown",
   "metadata": {},
   "source": [
    "\n",
    "1. Download the splitted ChEMBL data from [here](https://az.app.box.com/file/665317784561)\n",
    "2. Identify your pharma partner ID from [here](https://az.app.box.com/file/665327503987) and use *partner<your_company_ID>.npy from Step 1 for inputs for the y, folding and weights\n",
    "3. Download the testnet production run output from a given manifest in this [folder](https://app.box.com/folder/114759251715) (see dates):  for your corresponding partner ID. E.g. here [manifest of June 25th, 2020](https://app.box.com/folder/116435387771)\n",
    "\n"
   ]
  },
  {
   "cell_type": "code",
   "execution_count": null,
   "metadata": {},
   "outputs": [],
   "source": [
    "# Load the Y matrix for partner 9 in order to verify the validation fold used\n",
    "pharma_id = 9\n",
    "\n",
    "y_true_all_file = f'data/pharma_partners/pharma_y_partner_{pharma_id}.npy'\n",
    "y_true_all = np.load(y_true_all_file, allow_pickle=True).item()\n",
    "\n",
    "\n",
    "folds_file  =  f\"data/pharma_partners/folding_partner_{pharma_id}.npy\"\n",
    "folds = np.load(folds_file, allow_pickle=True)\n",
    "\n",
    "# filter out valid fold = 1 and check out the shape\n",
    "y_true_va1 = y_true_all[folds == 1]\n",
    "\n",
    "print(f'Number of data points in the full source dataset : {y_true_all.nonzero()[0].shape[0]}')\n",
    "print(f'Number of data points in the validatinon set     : {y_true_va1.nonzero()[0].shape[0]}')\n",
    "print(f'Shape of the validation set labeled data         : {y_true_va1.shape}')"
   ]
  },
  {
   "cell_type": "code",
   "execution_count": null,
   "metadata": {},
   "outputs": [],
   "source": [
    "# check Sizes of other folds\n",
    "print(f'# data points fold 0 : {y_true_all[folds == 0].shape[0]}')\n",
    "print(f'# data points fold 1 : {y_true_all[folds == 1].shape[0]}')\n",
    "print(f'# data points fold 2 : {y_true_all[folds == 2].shape[0]}')\n",
    "print(f'# data points fold 3 : {y_true_all[folds == 3].shape[0]}')\n",
    "print(f'# data points fold 4 : {y_true_all[folds == 4].shape[0]}')"
   ]
  },
  {
   "cell_type": "code",
   "execution_count": null,
   "metadata": {},
   "outputs": [],
   "source": [
    "# this file path has to be adjusted to the testnet run you for which you want to evaluate reproducibility:\n",
    "testnet_yhat_file = \"manifests_25_06_2020/var/substra/medias/subtuple/f5aa781dd0c69e73073379907a9a3ca5b50b2ed8278a376bc7a5db988caf1b7b/pred/pred\"\n",
    "testnet_yhat = torch.load(testnet_yhat_file)\n",
    "\n",
    "# get non zero elements (labeled data points in Y) in order to pick them in the dense y_hat of sparsechem obtained on-premises\n",
    "nnz = testnet_yhat.nonzero()\n",
    "\n",
    "testnet_yhat.shape #=> should be same shape as fold_va 1 in Y data source"
   ]
  },
  {
   "cell_type": "markdown",
   "metadata": {},
   "source": [
    "### Dense y_hat predictions with sparsechem "
   ]
  },
  {
   "cell_type": "markdown",
   "metadata": {},
   "source": [
    "<br>Note</b>: dense predictions over the complete dataset require a considerable amount of memory (e.g. ~300Gb for inflated dataset of partner 10).<br>\n",
    "Reducing the predictions to the validation set still requires a considerable amount of memory (e.g. 74Gb for the inflated dataset of partner 10). <br>\n",
    "\n",
    "Command line call example to make on premise <b>dense</b> predictions with sparschem for pharma partner 9 data source X: <br>\n",
    "```bash\n",
    "# example call to produce dense predictins (for partner 9)\n",
    "python predict.py --x data/pharma_partners/pharma_x_partner_9.npy \\\n",
    "                --conf manifests_25_06_2020/var/substra/medias/subtuple/f5aa781dd0c69e73073379907a9a3ca5b50b2ed8278a376bc7a5db988caf1b7b/export/hyperparameters.json \\\n",
    "                --model manifests_25_06_2020/var/substra/medias/subtuple/f5aa781dd0c69e73073379907a9a3ca5b50b2ed8278a376bc7a5db988caf1b7b/export/model.pth \\\n",
    "                --outfile pred_onpremise_manifest_25_06_2020_partner9.npy \\\n",
    "                --dev cpu\n",
    "```\n",
    "\n",
    "<br>"
   ]
  },
  {
   "cell_type": "code",
   "execution_count": 22,
   "metadata": {},
   "outputs": [
    {
     "name": "stdout",
     "output_type": "stream",
     "text": [
      "Full prediction shape          : (197892, 322)\n",
      "Validation set prediction shape: (38438, 322)\n"
     ]
    }
   ],
   "source": [
    "# now load on premises prediction made on the full data set pharma_x_partner_9.npy \n",
    "onpremise_yhat = np.load(\"pred_onpremise_manifest_25_06_2020_partner9.npy\", allow_pickle=True)\n",
    "\n",
    "# select only predictions over the validation fold 1 ( to match exported testnet predictions )\n",
    "onpremise_yhat_va1 = onpremise_yhat[folds == 1]\n",
    "print(f'Full prediction shape          : {onpremise_yhat.shape}')\n",
    "print(f'Validation set prediction shape: {onpremise_yhat_va1.shape}') # => should match testnet_yhat.shape"
   ]
  },
  {
   "cell_type": "code",
   "execution_count": 29,
   "metadata": {},
   "outputs": [
    {
     "data": {
      "text/plain": [
       "False"
      ]
     },
     "execution_count": 29,
     "metadata": {},
     "output_type": "execute_result"
    }
   ],
   "source": [
    "# test if testnet predictions are close enough to on premise predictions: \n",
    "# with relative and absolute tolerances (rtol and atol) = 1e-5\n",
    "# \n",
    "# Expected outcome if tesnet predictions are reproducible is \"True\" \n",
    "np.allclose(onpremise_yhat_va1[nnz], testnet_yhat.toarray()[nnz], rtol=1e-05, atol=1e-05)"
   ]
  },
  {
   "cell_type": "code",
   "execution_count": 30,
   "metadata": {},
   "outputs": [
    {
     "data": {
      "text/plain": [
       "[<matplotlib.lines.Line2D at 0x2aab2dede240>]"
      ]
     },
     "execution_count": 30,
     "metadata": {},
     "output_type": "execute_result"
    },
    {
     "data": {
      "image/png": "[encoded data removed]",
      "text/plain": [
       "<Figure size 432x288 with 1 Axes>"
      ]
     },
     "metadata": {
      "needs_background": "light"
     },
     "output_type": "display_data"
    }
   ],
   "source": [
    "# checkout if on-premise predictions match the exported predictions\n",
    "# ideally there should be a stragiht line on the diagonal with as small deviation as possible\n",
    "\n",
    "\n",
    "#fig, ax = plt.subplots(figsize=(12, 7))\n",
    "sns.scatterplot(x=onpremise_yhat_va1[nnz], y=testnet_yhat.toarray()[nnz])\n",
    "ident = [0.0, 1.0]\n",
    "plt.plot(ident,ident, color='r')\n",
    "\n",
    "# the plot provided originally in this notebook shows \"non-reproducible predictions\""
   ]
  }
 ],
 "metadata": {
  "kernelspec": {
   "display_name": "SciComp PythonDS v0.5",
   "language": "python",
   "name": "py_3.6_v0.5"
  },
  "language_info": {
   "codemirror_mode": {
    "name": "ipython",
    "version": 3
   },
   "file_extension": ".py",
   "mimetype": "text/x-python",
   "name": "python",
   "nbconvert_exporter": "python",
   "pygments_lexer": "ipython3",
   "version": "3.6.7"
  }
 },
 "nbformat": 4,
 "nbformat_minor": 4
}
