{
 "cells": [
  {
   "cell_type": "code",
   "execution_count": 1,
   "metadata": {
    "collapsed": true
   },
   "outputs": [],
   "source": [
    "import os\n",
    "import pandas as pd\n",
    "import glob"
   ]
  },
  {
   "cell_type": "markdown",
   "metadata": {},
   "source": [
    "**Please adjust**: Set input and out paths\n"
   ]
  },
  {
   "cell_type": "code",
   "execution_count": 2,
   "metadata": {
    "collapsed": true
   },
   "outputs": [],
   "source": [
    "perf_eval_outputs = {\n",
    "    'cls':'/pathto_perfevalfolder_containing_delta_MP_SP3subfolders_for_cls',\n",
    "    'clsaux' : '/pathto_perfevalfolder_containing_delta_MP_SP3subfolders_for_clsaux',\n",
    "}\n",
    "path_adcp_result='/pathto/analysis/ad_summary_phase2_excape.csv'"
   ]
  },
  {
   "cell_type": "code",
   "execution_count": 3,
   "metadata": {
    "collapsed": true
   },
   "outputs": [],
   "source": [
    "#load ad cp results\n",
    "df_adcp = pd.read_csv(path_adcp_result)"
   ]
  },
  {
   "cell_type": "code",
   "execution_count": 22,
   "metadata": {
    "collapsed": true
   },
   "outputs": [],
   "source": [
    "#join perf eval and adcp\n",
    "for dataset, path in perf_eval_outputs.items():\n",
    "    \n",
    "    sp_perf_file = glob.glob(os.path.join(path, 'SP', \"*per-task_performances_NOUPLOAD.csv\"))\n",
    "    mp_perf_file = glob.glob(os.path.join(path, 'MP', \"*per-task_performances_NOUPLOAD.csv\"))\n",
    "\n",
    "    assert not len(sp_perf_file) == 0, f\"Cannot find the SP task based performance file under {os.path.join(perf_eval_outdir, 'SP')}\"\n",
    "    assert not len(mp_perf_file) == 0, f\"Cannot find the MP task based performance file under {os.path.join(perf_eval_outdir, 'MP')}\"\n",
    "\n",
    "    #assert not len(sp_perf_file) > 1, f\"There is more than one task based performance file under {os.path.join(perf_eval_outdir, 'SP', '*per-task_performances_NOUPLOAD.csv')}\"\n",
    "    #assert not len(mp_perf_file) > 1, f\"There is more than one task based performance file under {os.path.join(perf_eval_outdir, 'MP', '*per-task_performances_NOUPLOAD.csv')}\"\n",
    "    df_sp_perf = pd.read_csv(sp_perf_file[0])\n",
    "    df_mp_perf = pd.read_csv(mp_perf_file[0])\n",
    "    if dataset == 'cls':        \n",
    "        joined_sp = df_sp_perf.join(df_adcp.set_index('cont_classification_task_id_cls')[['efficiency_overall_cls_sp']],on='cont_classification_task_id')\n",
    "        joined_mp = df_mp_perf.join(df_adcp.set_index('cont_classification_task_id_cls')[['efficiency_overall_cls_mp']],on='cont_classification_task_id')\n",
    "        joined_sp_outpath=os.path.join(path, 'SP', \"pred_per-task_performances_NOUPLOAD_wADCP.csv\")\n",
    "        joined_mp_outpath=os.path.join(path, 'MP', \"pred_per-task_performances_NOUPLOAD_wADCP.csv\")\n",
    "        joined_sp.rename(columns={'efficiency_overall_cls_sp':'efficiency_overall'},inplace=True)\n",
    "        joined_mp.rename(columns={'efficiency_overall_cls_mp':'efficiency_overall'},inplace=True)\n",
    "        joined_sp.to_csv(joined_sp_outpath,index=False)\n",
    "        joined_mp.to_csv(joined_mp_outpath,index=False)\n",
    "    elif dataset == 'clsaux':\n",
    "        joined_sp = df_sp_perf.join(df_adcp.set_index('cont_classification_task_id_clsaux')[['efficiency_overall_clsaux_sp']],on='cont_classification_task_id')\n",
    "        joined_mp = df_mp_perf.join(df_adcp.set_index('cont_classification_task_id_clsaux')[['efficiency_overall_clsaux_mp']],on='cont_classification_task_id')\n",
    "        joined_sp_outpath=os.path.join(path, 'SP', \"pred_per-task_performances_NOUPLOAD_wADCP.csv\")\n",
    "        joined_mp_outpath=os.path.join(path, 'MP', \"pred_per-task_performances_NOUPLOAD_wADCP.csv\")\n",
    "        joined_sp.rename(columns={'efficiency_overall_clsaux_sp':'efficiency_overall'},inplace=True)\n",
    "        joined_mp.rename(columns={'efficiency_overall_clsaux_mp':'efficiency_overall'},inplace=True)\n",
    "        joined_sp.to_csv(joined_sp_outpath,index=False)\n",
    "        joined_mp.to_csv(joined_mp_outpath,index=False)\n",
    "    "
   ]
  },
  {
   "cell_type": "code",
   "execution_count": null,
   "metadata": {
    "collapsed": true
   },
   "outputs": [],
   "source": []
  }
 ],
 "metadata": {
  "kernelspec": {
   "display_name": "Python 3",
   "language": "python",
   "name": "python3"
  },
  "language_info": {
   "codemirror_mode": {
    "name": "ipython",
    "version": 3
   },
   "file_extension": ".py",
   "mimetype": "text/x-python",
   "name": "python",
   "nbconvert_exporter": "python",
   "pygments_lexer": "ipython3",
   "version": "3.6.3"
  }
 },
 "nbformat": 4,
 "nbformat_minor": 5
}
