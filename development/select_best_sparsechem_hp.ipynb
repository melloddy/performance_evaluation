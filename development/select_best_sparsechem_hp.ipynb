{
 "cells": [
  {
   "cell_type": "code",
   "execution_count": 1,
   "metadata": {},
   "outputs": [],
   "source": [
    "import os\n",
    "import sys\n",
    "import pandas as pd\n",
    "sys.path.append('/path/to/repo/performance_evaluation/development_code/')\n",
    "import modeval"
   ]
  },
  {
   "cell_type": "markdown",
   "metadata": {},
   "source": [
    "This notebook assumes a sinple 5CV grid search was performed as (e.g. such as specified in https://app.box.com/file/565474267762) <br>"
   ]
  },
  {
   "cell_type": "code",
   "execution_count": null,
   "metadata": {},
   "outputs": [],
   "source": [
    "# pandas v0.25 (lower than 1 is enough)"
   ]
  },
  {
   "cell_type": "code",
   "execution_count": 2,
   "metadata": {},
   "outputs": [
    {
     "data": {
      "text/plain": [
       "'0.25.3'"
      ]
     },
     "execution_count": 2,
     "metadata": {},
     "output_type": "execute_result"
    }
   ],
   "source": [
    "pd.__version__"
   ]
  },
  {
   "cell_type": "code",
   "execution_count": null,
   "metadata": {},
   "outputs": [],
   "source": [
    "# specify sparsechem's folder containing HP grid search results\n",
    "result_dir = 'results/'\n",
    "model_dir = 'models/'"
   ]
  },
  {
   "cell_type": "markdown",
   "metadata": {},
   "source": [
    "### SELECT BEST FROM JSON FILES"
   ]
  },
  {
   "cell_type": "markdown",
   "metadata": {},
   "source": [
    "#### Select best following official definition \n",
    "The official definition for Y1 is on page1-2 of the option doc: \"[SharingAggregateFigures](https://app.box.com/file/493035529676)\""
   ]
  },
  {
   "cell_type": "code",
   "execution_count": null,
   "metadata": {},
   "outputs": [],
   "source": [
    "#1/ LOAD RESULTS .JSON FILES\n",
    "grid_search_results = perf_from_json(model_dir,            # This could be either the models dir or a .json file\n",
    "                                     tasks_for_eval=None,  # to mask out some tasks, specify an np.array of tasks to consider only\n",
    "                                     aggregate=False,      # do not use the aggregate results of sparsechem\n",
    "                                     evaluation_set='va',  # using \"va\" results (specify \"te\" if test results)\n",
    "                                     model_name='Y',       # model name will be added in the dataframe\n",
    "                                     n_cv=5,               # will load only files relative to folds 0,1,2...,n_cv-1\n",
    "                                     filename_mask=None,   # allows ignoring some files present in the models/ dir\n",
    "                                     drop_na_col=True,     # drops columns full of nan in resulting data frame\n",
    "                                     verbose=True)         # default value \n"
   ]
  },
  {
   "cell_type": "code",
   "execution_count": null,
   "metadata": {},
   "outputs": [],
   "source": [
    "#2/ FIND THE BEST HYPERPARAMETERS\n",
    "# this step will : \n",
    "#  - aggregate_overall: \n",
    "#       > quorum_filter: selects only tasks verifying the quorum (5 actives , 5 inactives in each folds)\n",
    "#       > aggregates remaining tasks with mean and standard deviation\n",
    "#  - reports the top HPs/score per score type\n",
    "\n",
    "\n",
    "modeval.find_best_hyperparam(grid_search_results,              # results data from step before (assumed to contain > 1 combin of HPs)\n",
    "                             min_samples=5,                    # minimum number of actives / inactives in each n_cv folds for a task to be considered\n",
    "                             n_cv=5,                           # number of folds to look for\n",
    "                             perf_metrics=['roc_auc_score', \n",
    "                                           'auc_pr', \n",
    "                                           'avg_prec_score', \n",
    "                                           'max_f1_score',\n",
    "                                           'kappa'],           # default value: allows selection of score types\n",
    "                             verbose=True)                     # default value\n",
    "\n",
    "\n"
   ]
  },
  {
   "cell_type": "markdown",
   "metadata": {},
   "source": [
    "#### Select best using sparsechem aggregate results"
   ]
  },
  {
   "cell_type": "code",
   "execution_count": null,
   "metadata": {},
   "outputs": [],
   "source": [
    "# use the following if performance reports in *.json files \n",
    "# collect performance metrics from conf file (aggregate form) \n",
    "conf_df = modeval.perf_from_json(result_dir, aggregate=True)"
   ]
  },
  {
   "cell_type": "code",
   "execution_count": null,
   "metadata": {},
   "outputs": [],
   "source": [
    "# melt: in conf files, there is only auc_pr and auc_roc\n",
    "conf_dfm = modeval.melt_perf(conf_df, perf_metrics=['roc_auc_score_agg', 'auc_pr_agg', 'avg_prec_score_agg', 'max_f1_score_agg', 'kappa_agg', 'logloss_agg']) \n",
    "\n",
    "# Find out the best hyperparameters\n",
    "best_hp = modeval.best_hyperparam(conf_dfm)"
   ]
  },
  {
   "cell_type": "code",
   "execution_count": null,
   "metadata": {},
   "outputs": [],
   "source": [
    "# show the hyperparameters \n",
    "wanted_score='auc_pr_agg'\n",
    "best_hp.loc[best_hp['score_type']==wanted_score]"
   ]
  },
  {
   "cell_type": "markdown",
   "metadata": {},
   "source": [
    "### [DEPRECATED] SELECT BEST FROM CONF.NPY FILES (OLD SPARSECHEM VERSION)"
   ]
  },
  {
   "cell_type": "code",
   "execution_count": 3,
   "metadata": {},
   "outputs": [],
   "source": [
    "# use the following if performance reports in *.conf.npy files \n",
    "# collect performance metrics from conf file (aggregate form) \n",
    "conf_df = modeval.perf_from_conf(model_dir, aggregate=True)"
   ]
  },
  {
   "cell_type": "code",
   "execution_count": 3,
   "metadata": {},
   "outputs": [],
   "source": [
    "# melt: in conf files, there is only auc_pr and auc_roc (no kappa, f1, ...) \n",
    "conf_dfm = modeval.melt_perf(conf_df, perf_metrics=['auc_pr_va_mean', 'auc_va_mean']) \n",
    "\n",
    "# Find out the best hyperparameters\n",
    "best_hp = modeval.best_hyperparam(conf_dfm)"
   ]
  },
  {
   "cell_type": "code",
   "execution_count": null,
   "metadata": {},
   "outputs": [],
   "source": [
    "# show the hyperparameters \n",
    "wanted_score='auc_pr_va_mean'\n",
    "best_hp.loc[best_hp['score_type']==wanted_score]"
   ]
  }
 ],
 "metadata": {
  "kernelspec": {
   "display_name": "SciComp PythonDS v0.5",
   "language": "python",
   "name": "py_3.6"
  },
  "language_info": {
   "codemirror_mode": {
    "name": "ipython",
    "version": 3
   },
   "file_extension": ".py",
   "mimetype": "text/x-python",
   "name": "python",
   "nbconvert_exporter": "python",
   "pygments_lexer": "ipython3",
   "version": "3.6.7"
  }
 },
 "nbformat": 4,
 "nbformat_minor": 4
}
