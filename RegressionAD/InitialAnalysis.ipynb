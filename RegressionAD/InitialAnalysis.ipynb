{
 "cells": [
  {
   "cell_type": "code",
   "execution_count": null,
   "id": "9c0033e5",
   "metadata": {},
   "outputs": [],
   "source": [
    "import numpy as np\n",
    "import sparsechem as sc\n",
    "import torch\n",
    "import pandas as pd\n",
    "from sklearn.metrics import mean_squared_error, r2_score\n",
    "from scipy.stats import spearmanr, pearsonr\n",
    "import matplotlib.pyplot as plt"
   ]
  },
  {
   "cell_type": "code",
   "execution_count": null,
   "id": "b38b7c1c",
   "metadata": {},
   "outputs": [],
   "source": [
    "# Specify full paths here\n",
    "paths = [\n",
    "    'cp464*****/pred/pred.json',\n",
    "    'cp465***pred/pred.json',\n",
    "    'cp568***/pred/pred.json',\n",
    "    'cp569****/pred/pred.json',\n",
    "    'cp570*****/pred/pred.json'\n",
    "]\n",
    "weights_path = 'path to reg_weights.csv'\n",
    "y_true_path = 'path to reg_T10_y.npz'\n",
    "y_mask_path = 'path to /reg_T10_censor_y.npz'\n",
    "folding_path = 'path to reg_T11_fold_vector.npy'"
   ]
  },
  {
   "cell_type": "code",
   "execution_count": null,
   "id": "0963f6d1",
   "metadata": {},
   "outputs": [],
   "source": [
    "weights = pd.read_csv(weights_path)\n",
    "tasks_to_consider = weights[weights.aggregation_weight == 1].task_id.values"
   ]
  },
  {
   "cell_type": "code",
   "execution_count": null,
   "id": "f5bb412e",
   "metadata": {},
   "outputs": [],
   "source": [
    "# Read true labels, mask them wrt validation fold\n",
    "y = sc.load_sparse(y_true_path)\n",
    "y_mask = sc.load_sparse(y_mask_path)\n",
    "folding = np.load(folding_path)\n",
    "y = y[folding == 4,:]\n",
    "y_mask = y_mask[folding == 4, :]"
   ]
  },
  {
   "cell_type": "code",
   "execution_count": null,
   "id": "7164ddde",
   "metadata": {},
   "outputs": [],
   "source": [
    "y_ens = []\n",
    "for i in range(len(paths)):\n",
    "    y_ens.append(torch.load(paths[i]).astype('float64').tocsr())"
   ]
  },
  {
   "cell_type": "code",
   "execution_count": null,
   "id": "8b3b58a1",
   "metadata": {},
   "outputs": [],
   "source": [
    "summary = []\n",
    "for task in tasks_to_consider:\n",
    "    labels = y[:, task].data\n",
    "    mask = y_mask[:, task].data\n",
    "    ens_pred = [yhat[:, task].data for yhat in y_ens]\n",
    "    labels = labels[mask == 0]\n",
    "    ens_pred = [yhat[mask == 0] for yhat in ens_pred]\n",
    "    ens_pred = np.vstack(ens_pred)\n",
    "    ens_means = ens_pred.mean(axis = 0)\n",
    "    ens_std = ens_pred.std(axis = 0)\n",
    "    ens_abs_error = np.abs(ens_means - labels)\n",
    "    summary.append({\n",
    "        'task': task,\n",
    "        'spearman': spearmanr(ens_abs_error, ens_std)[0],\n",
    "        'pearson': pearsonr(ens_abs_error, ens_std)[0],\n",
    "        'R2': r2_score(labels, ens_means)\n",
    "    })"
   ]
  },
  {
   "cell_type": "code",
   "execution_count": null,
   "id": "e4ca525a",
   "metadata": {},
   "outputs": [],
   "source": [
    "summary = pd.DataFrame.from_records(summary)"
   ]
  },
  {
   "cell_type": "code",
   "execution_count": null,
   "id": "6ceb5cbe",
   "metadata": {},
   "outputs": [],
   "source": [
    "# Now you have a dataframe with each line corresponding to one task \n",
    "# and specifying R2, Spearman and Pearson correlations\n",
    "# Code below are just simple plots based on that"
   ]
  },
  {
   "cell_type": "code",
   "execution_count": null,
   "id": "15ae0cbb",
   "metadata": {},
   "outputs": [],
   "source": [
    "plt.hist(summary.spearman.values, bins=20)"
   ]
  },
  {
   "cell_type": "code",
   "execution_count": null,
   "id": "2128e3de",
   "metadata": {},
   "outputs": [],
   "source": [
    "plt.scatter(summary.R2.values, summary.spearman.values)\n",
    "plt.xlabel('r2')\n",
    "plt.ylabel('spearman')"
   ]
  },
  {
   "cell_type": "code",
   "execution_count": null,
   "id": "aed4afe3",
   "metadata": {},
   "outputs": [],
   "source": [
    "plt.hist(summary[summary.R2 > 0.5].spearman.values, bins=20)"
   ]
  },
  {
   "cell_type": "code",
   "execution_count": null,
   "id": "997316b5",
   "metadata": {},
   "outputs": [],
   "source": [
    "plt.hist(summary.pearson.values, bins=20)"
   ]
  },
  {
   "cell_type": "code",
   "execution_count": null,
   "id": "a1eb064c",
   "metadata": {},
   "outputs": [],
   "source": []
  }
 ],
 "metadata": {
  "kernelspec": {
   "display_name": "Python [MelloddyPipeline3_Python3]",
   "language": "python",
   "name": "melloddypipeline3_python3"
  },
  "language_info": {
   "codemirror_mode": {
    "name": "ipython",
    "version": 3
   },
   "file_extension": ".py",
   "mimetype": "text/x-python",
   "name": "python",
   "nbconvert_exporter": "python",
   "pygments_lexer": "ipython3",
   "version": "3.8.2"
  }
 },
 "nbformat": 4,
 "nbformat_minor": 5
}
