{
 "cells": [
  {
   "cell_type": "code",
   "execution_count": null,
   "id": "843e66ac-56b1-48fe-b3e9-fcfe57b340c7",
   "metadata": {},
   "outputs": [],
   "source": [
    "import os\n",
    "import sys\n",
    "import pandas as pd\n",
    "import glob\n",
    "import matplotlib.pyplot as plt\n",
    "import numpy as np\n",
    "import seaborn as sns\n",
    "import matplotlib as mpl\n",
    "from scipy.stats import pearsonr"
   ]
  },
  {
   "cell_type": "code",
   "execution_count": null,
   "id": "42abae9f-9721-4105-88a4-115dbbeda77a",
   "metadata": {},
   "outputs": [],
   "source": [
    "company = ''\n",
    "\n",
    "# fill in the path to tasks performance outputs from WP3 performance_evaluation.py code\n",
    "# or task perf (with significance results) from performance evaluations CLS_vs_CLSAUX\n",
    "config = {\n",
    "    \"SPCLS_SPCLSAUX\":\"< path to task performance with significance results from cls_vs_clsaux : spcls_vs_spclsaux >\",\n",
    "    \"MPCLS_MPCLSAUX\":\"< path to task performance with significance results from cls_vs_clsaux : mpcls_vs_mpclsaux >\",\n",
    "    \"MPCLS_SPCLSAUX\":\"< path to task performance with significance results from cls_vs_clsaux : mpcls_vs_spclsaux >\" ,\n",
    "    \"SPCLS_MPCLSAUX\":\"< path to task performance with significance results from cls_vs_clsaux : spcls_vs_mpclsaux >\",\n",
    "    \"SPCLS_MPCLS\":\"< path to performance_evluation.py task perf deltas of comparison SPCLS-MPCLS cls/deltas/deltas_per-task_performances_NOUPLOAD.csv > \",\n",
    "    \"SPCLSAUX_MPCLSAUX\":\"< path to performance_evluation.py task perf deltas of comparison SPCLSAUX-MPCLSAUX clsaux/deltas/deltas_per-task_performances_NOUPLOAD.csv >\"\n",
    "}"
   ]
  },
  {
   "cell_type": "code",
   "execution_count": null,
   "id": "da6ff7d7-a147-4719-948c-d4927580a24e",
   "metadata": {},
   "outputs": [],
   "source": [
    "def tversky(a, b, alpha=0.95, beta=0.05):\n",
    "    \n",
    "    sum_a = a.sum()\n",
    "    sum_b = b.sum()\n",
    "\n",
    "    num_common = np.logical_and(a, b).sum()\n",
    "    tversky_ab = num_common / (alpha * sum_a + beta * sum_b )\n",
    "    tversky_ba = num_common / (beta * sum_a + alpha * sum_b )\n",
    "\n",
    "    return tversky_ab, tversky_ba"
   ]
  },
  {
   "cell_type": "code",
   "execution_count": null,
   "id": "1f2d640a-6685-4dbb-bd8c-b278a32c2eb5",
   "metadata": {},
   "outputs": [],
   "source": [
    "# load in all the required files + merge significance columns\n",
    "\n",
    "t8c_clsaux = pd.read_csv(\"/db/melloddy/DATA/Internal_Y3/Melloddy_tuner_io/outputs_MT-3.0.2_w_aux_hts_PLsppl2a/results_tmp/classification/T8c.csv\", usecols=['cont_classification_task_id', 'classification_task_id', 'input_assay_id', 'threshold']).dropna(subset=['cont_classification_task_id'])\n",
    "t8c = pd.read_csv(\"/db/melloddy/DATA/Internal_Y3/Melloddy_tuner_io/outputs_MT-3.0.2/results_tmp/classification/T8c.csv\", usecols=['cont_classification_task_id', 'classification_task_id', 'input_assay_id', 'threshold']).dropna(subset=['cont_classification_task_id'])\n",
    "t8c['cont_classification_task_id'] = t8c['cont_classification_task_id'].astype(int)\n",
    "t8c_clsaux['cont_classification_task_id'] = t8c_clsaux['cont_classification_task_id'].astype(int)\n",
    "\n",
    "# map clsuax to cls task ids\n",
    "cols=['cont_classification_task_id', 'cont_classification_task_id_clsaux']\n",
    "clsaux2cls = t8c.merge(t8c_clsaux, on=['input_assay_id', 'threshold'], suffixes=('', '_clsaux'))[cols]\n",
    "clsaux2cls = clsaux2cls.set_index('cont_classification_task_id_clsaux')['cont_classification_task_id'].to_dict()\n",
    "\n",
    "\n",
    "cols = ['cont_classification_task_id','roc_auc_score', 'SP_significant', 'SP_pvalue','MP_significant', 'MP_pvalue']\n",
    "spcls_mpcls = t8c.merge(pd.read_csv(config[\"SPCLS_MPCLS\"]), on='classification_task_id')[cols].rename(columns={'MP_significant':'sign SPCLS->MPCLS', 'cont_classification_task_id':'task_id'})\n",
    "spclsaux_mpclsaux = t8c_clsaux.merge(pd.read_csv(config[\"SPCLSAUX_MPCLSAUX\"]), on='classification_task_id')[cols].rename(columns={'MP_significant':'sign SPCLSAUX->MPCLSAUX', 'cont_classification_task_id':'task_id'})\n",
    "spclsaux_mpclsaux['task_id'] = spclsaux_mpclsaux['task_id'].map(clsaux2cls)\n",
    "\n",
    "spcls_spclsaux = pd.read_csv(config[\"SPCLS_SPCLSAUX\"]).rename(columns={'significant clsaux > cls':'sign SPCLS->SPCLSAUX'})\n",
    "mpcls_mpclsaux = pd.read_csv(config[\"MPCLS_MPCLSAUX\"]).rename(columns={'significant clsaux > cls':'sign MPCLS->MPCLSAUX'})\n",
    "spcls_mpclsaux = pd.read_csv(config['SPCLS_MPCLSAUX']).rename(columns={'significant clsaux > cls':'sign SPCLS->MPCLSAUX'})\n",
    "\n",
    "cols=['task_id', 'sign SPCLS->MPCLS', 'sign SPCLS->SPCLSAUX', 'sign MPCLS->MPCLSAUX','sign SPCLS->MPCLSAUX', 'sign SPCLSAUX->MPCLSAUX']\n",
    "merge = spcls_mpcls.merge(spcls_spclsaux, on='task_id').merge(mpcls_mpclsaux, on='task_id').merge(spcls_mpclsaux, on='task_id').merge(spclsaux_mpclsaux, on='task_id')[cols]"
   ]
  },
  {
   "cell_type": "markdown",
   "id": "21abc7d7-f062-4e5d-971d-2ffe2a0a2b0a",
   "metadata": {},
   "source": [
    "# diamond comparisons nomenclature\n",
    "\n",
    "1. sign boost in SPCLS -> SPCLSAUX\n",
    "2. sign boost in SPCLS -> MPCLS\n",
    "3. sign boost in SPCLS -> MPCLSAUX\n",
    "4. sign boost in SPCLS -> SPCLSAUX and/or SPCLS -> MPCLS"
   ]
  },
  {
   "cell_type": "code",
   "execution_count": null,
   "id": "c29976f9-4481-4b65-bc6b-d1d3380160ca",
   "metadata": {},
   "outputs": [],
   "source": [
    "frac_sign_1 = merge['sign SPCLS->SPCLSAUX'].sum()/merge.shape[0]\n",
    "frac_sign_2 = merge['sign SPCLS->MPCLS'].sum()/merge.shape[0]\n",
    "frac_sign_3 = merge['sign SPCLS->MPCLSAUX'].sum()/merge.shape[0]\n",
    "frac_sign_4 = np.logical_or(merge['sign SPCLS->SPCLSAUX'], merge['sign SPCLS->MPCLS']).sum()/merge.shape[0]\n",
    "\n",
    "frac_sign_1, frac_sign_2, frac_sign_3, frac_sign_4"
   ]
  },
  {
   "cell_type": "markdown",
   "id": "508d7f7e-36dc-44ee-8e8d-cc04242cf705",
   "metadata": {},
   "source": [
    "# Is the effect additive between SPCLS->MPCLS and SPCLS->SPCLSAUX?\n",
    "how many of the tasks significantly boosted by aux data in SP setup are still sign. boosted when going to MP? "
   ]
  },
  {
   "cell_type": "code",
   "execution_count": null,
   "id": "b270e8fb-4a23-4e05-9c96-9c102e1c8f6a",
   "metadata": {},
   "outputs": [],
   "source": [
    "frac_1_in_3, frac_3_in_1 =  tversky(merge['sign SPCLS->SPCLSAUX'], merge['sign SPCLS->MPCLSAUX'], alpha=1, beta=0)\n",
    "frac_1_in_3, frac_3_in_1"
   ]
  },
  {
   "cell_type": "markdown",
   "id": "0e8ee511-9add-42ac-b00d-18808a371caa",
   "metadata": {},
   "source": [
    "how many of the tasks sign. boosted in SPCLS->MPCLS setup are still sign. boosted when going to MPCLSAUX? "
   ]
  },
  {
   "cell_type": "code",
   "execution_count": null,
   "id": "ec88feba-333e-4186-9b7e-24611b8fb438",
   "metadata": {},
   "outputs": [],
   "source": [
    "frac_2_in_3, frac_3_in_2 = tversky(merge['sign SPCLS->MPCLS'],merge['sign SPCLS->MPCLSAUX'], alpha=1, beta=0)\n",
    "frac_2_in_3, frac_3_in_2"
   ]
  },
  {
   "cell_type": "markdown",
   "id": "55407e3e-e827-4ae0-b254-5a1c560dd7eb",
   "metadata": {},
   "source": [
    "how many tasks get boosted in SPCLS->MPCLSAUX but are not boosted by SPCLS-SPCLSAUX and not by SPCLS->MPCLS?"
   ]
  },
  {
   "cell_type": "code",
   "execution_count": null,
   "id": "a6176ee1-6768-45bc-91f2-6321919a3c48",
   "metadata": {},
   "outputs": [],
   "source": [
    "scls_spclsaux_OR_spcls_mpcls = np.logical_or(merge['sign SPCLS->SPCLSAUX'], merge['sign SPCLS->MPCLS'])\n",
    "frac_4_in_3, frac_3_in_4 = tversky(scls_spclsaux_OR_spcls_mpcls, merge['sign SPCLS->MPCLSAUX'], alpha=1, beta=0)\n",
    "frac_4_in_3, frac_3_in_4\n",
    "\n",
    "# -> not additive effect since only 100-X% of tasks boosted either by SPCLS->SPCLSAUX or in SPCLS->MPCLS are also boosted in SPCLS->MPCLSAUX\n",
    "# this would suggest some loss in significance boost wrt to 4\n",
    "\n",
    "# -> traction gained from MP synergies, Y% tasks boosted by SPCLS-MPCLSAUX are already boosted in either of the two former setups, W% additional tasks boosted in SPCLS->MPCLSAUX wrt to 4!"
   ]
  },
  {
   "cell_type": "code",
   "execution_count": null,
   "id": "b847cde3-8955-4d51-839a-9eff4e6d3416",
   "metadata": {},
   "outputs": [],
   "source": [
    "results = pd.DataFrame({'comparison':['SPCLS -> SPCLSAUX', 'SPCLS -> MPCLS', 'SPCLS -> MPCLSAUX', 'SPCLSAUX and/or SPCLS -> MPCLS'], \n",
    "                        'total fraction sign boost':[frac_sign_1, frac_sign_2, frac_sign_3, frac_sign_4], \n",
    "                        'fraction of comparison in SPCLS -> MPCLSAUX': [1, frac_1_in_3, frac_2_in_3, frac_4_in_3],\n",
    "                        'fraction of SPCLS -> MPCLSAUX in comparison': [1, frac_3_in_1, frac_3_in_2, frac_3_in_1]\n",
    "                       }).set_index('comparison')\n",
    "results"
   ]
  },
  {
   "cell_type": "code",
   "execution_count": null,
   "id": "7a8d51e9-82e8-4b5a-8e55-c9850735caa3",
   "metadata": {},
   "outputs": [],
   "source": [
    "# share this \n",
    "resutls.to_csv(f\"{company}_auxdata_additivity.csv\", index=None)"
   ]
  },
  {
   "cell_type": "markdown",
   "id": "ad611550-b1ab-47df-bf40-3dd32fbc2bb5",
   "metadata": {},
   "source": [
    "What happens to tasks sign boosted in SPCLS-SPCLSAUX that do not get sign boost in SPCLS->MPCLSAUX? <br>\n",
    "Are their perf significantly hurt or only not sign anymore? <br>\n"
   ]
  },
  {
   "cell_type": "code",
   "execution_count": null,
   "id": "5eff74cf-c810-43e2-92d2-61ee82db9009",
   "metadata": {},
   "outputs": [],
   "source": [
    "task_sel = merge.loc[(merge['sign SPCLS->SPCLSAUX']==1)&(merge['sign SPCLS->MPCLSAUX']==0)]['task_id']\n",
    "\n",
    "metric = 'auroc'\n",
    "x = f'{metric}_cls'\n",
    "y = f'{metric}_clsaux'\n",
    "\n",
    "perf_sel = spcls_mpclsaux.loc[spcls_mpclsaux['task_id'].isin(task_sel)]\n",
    "plt.scatter(perf_sel[x], perf_sel[y])\n",
    "plt.plot([0.5, 1], [0.5, 1], ls='--', c='k')\n",
    "#plt.boxplot((perf_sel[y] - perf_sel[x]).values)\n",
    "plt.xlabel(x)\n",
    "plt.ylabel(y)"
   ]
  }
 ],
 "metadata": {
  "kernelspec": {
   "display_name": "Melloddy Pipeline (y3)",
   "language": "python",
   "name": "melloddy_pipeline"
  },
  "language_info": {
   "codemirror_mode": {
    "name": "ipython",
    "version": 3
   },
   "file_extension": ".py",
   "mimetype": "text/x-python",
   "name": "python",
   "nbconvert_exporter": "python",
   "pygments_lexer": "ipython3",
   "version": "3.8.2"
  }
 },
 "nbformat": 4,
 "nbformat_minor": 5
}
